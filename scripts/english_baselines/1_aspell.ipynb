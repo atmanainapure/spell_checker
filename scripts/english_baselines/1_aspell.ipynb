{
  "nbformat": 4,
  "nbformat_minor": 0,
  "metadata": {
    "colab": {
      "name": "1-aspell.ipynb",
      "provenance": [],
      "collapsed_sections": [
        "i3fkMshtJG0N",
        "yX0uQ00sNp9_",
        "_5xmzFfPyXj7",
        "_dqZ2Bn-xu-E",
        "u39Lze8_xzL1",
        "6nYWwv0_x5Pw"
      ],
      "toc_visible": true
    },
    "kernelspec": {
      "name": "python3",
      "display_name": "Python 3"
    }
  },
  "cells": [
    {
      "cell_type": "markdown",
      "metadata": {
        "id": "i3fkMshtJG0N",
        "colab_type": "text"
      },
      "source": [
        "# Installation (unable to pip install)\n",
        "- [x] FAILED: pip install aspell-python-py3\n",
        "- [x] Followed API exposed by https://github.com/WojciechMula/aspell-python"
      ]
    },
    {
      "cell_type": "code",
      "metadata": {
        "id": "nxbpk_62Mkp9",
        "colab_type": "code",
        "colab": {}
      },
      "source": [
        "!sudo apt-get install libaspell-dev"
      ],
      "execution_count": null,
      "outputs": []
    },
    {
      "cell_type": "code",
      "metadata": {
        "id": "7YZFnXviJLcU",
        "colab_type": "code",
        "colab": {}
      },
      "source": [
        "!wget https://files.pythonhosted.org/packages/53/30/d995126fe8c4800f7a9b31aa0e7e5b2896f5f84db4b7513df746b2a286da/aspell-python-py3-1.15.tar.bz2"
      ],
      "execution_count": null,
      "outputs": []
    },
    {
      "cell_type": "code",
      "metadata": {
        "id": "Jxx4F9ClLRCG",
        "colab_type": "code",
        "colab": {}
      },
      "source": [
        "!tar -C . -xvf aspell-python-py3-1.15.tar.bz2"
      ],
      "execution_count": null,
      "outputs": []
    },
    {
      "cell_type": "code",
      "metadata": {
        "id": "_6wosXslNPMk",
        "colab_type": "code",
        "colab": {}
      },
      "source": [
        "%cd aspell-python-py3-1.15/\n",
        "!ls\n",
        "!python setup.py install\n",
        "%cd ./..\n",
        "!ls"
      ],
      "execution_count": null,
      "outputs": []
    },
    {
      "cell_type": "code",
      "metadata": {
        "id": "GwtSoRjpOkzy",
        "colab_type": "code",
        "colab": {}
      },
      "source": [
        ""
      ],
      "execution_count": null,
      "outputs": []
    },
    {
      "cell_type": "markdown",
      "metadata": {
        "id": "yX0uQ00sNp9_",
        "colab_type": "text"
      },
      "source": [
        "# no -context evaluation\n",
        "- Simple Evaluation based on (incorr,corr) pairs\n",
        "- [x] http://aspell.net/, http://aspell.net/test/cur/, http://aspell.net/man-html/Notes-on-the-Different-Suggestion-Modes.html\n",
        "- [x] https://github.com/WojciechMula/aspell-python"
      ]
    },
    {
      "cell_type": "markdown",
      "metadata": {
        "id": "_5xmzFfPyXj7",
        "colab_type": "text"
      },
      "source": [
        "##### load aspell model"
      ]
    },
    {
      "cell_type": "code",
      "metadata": {
        "id": "jokac3s16nA4",
        "colab_type": "code",
        "colab": {}
      },
      "source": [
        "from tqdm import tqdm\n",
        "import aspell\n",
        "corrector = aspell.Speller()\n",
        "corrector.setConfigKey('sug-mode', \"normal\") #ultra, fast, normal, slow, or bad-spellers\n",
        "#for k,v in corrector.ConfigKeys().items(): print(k,v)\n",
        "\n",
        "\"\"\"\n",
        "corrector.setConfigKey('ignore-accents', False)\n",
        "corrector.setConfpython\n",
        "igKey('partially-expand', True)\n",
        "corrector.setConfigKey('invisible-soundslike', True)\n",
        "\"\"\"\n",
        "\"\"\"\n",
        "print(corrector.suggest(\"hmoe\"))\n",
        "print(corrector.suggest(\"ooops\"))\n",
        "print(corrector.suggest(\"Ballance\"))\n",
        "print(corrector.suggest(\"baalance\"))\n",
        "print(corrector.suggest(\"Accosinly\"))\n",
        "\"\"\""
      ],
      "execution_count": null,
      "outputs": []
    },
    {
      "cell_type": "markdown",
      "metadata": {
        "id": "_dqZ2Bn-xu-E",
        "colab_type": "text"
      },
      "source": [
        "##### Custom made spelling-mistakes data"
      ]
    },
    {
      "cell_type": "code",
      "metadata": {
        "id": "XEK-Rr6295CX",
        "colab_type": "code",
        "colab": {}
      },
      "source": [
        "# incorrect spellings check\n",
        "\n",
        "opfile = open(\"./combined_data.tsv\",\"r\")\n",
        "total_words = 0\n",
        "top1 = 0\n",
        "top5 = 0\n",
        "top10 = 0\n",
        "top50 = 0\n",
        "for line in tqdm(opfile):\n",
        "    words = line.strip().split(\"\\t\")[:2]\n",
        "    incorrect,correct  = words[0], words[1]\n",
        "    suggestions = corrector.suggest(incorrect)\n",
        "    top1 = top1+1 if correct in suggestions[:1] else top1\n",
        "    top5 = top5+1 if correct in suggestions[:5] else top5\n",
        "    top10 = top10+1 if correct in suggestions[:10] else top10\n",
        "    top50 = top50+1 if correct in suggestions[:50] else top50\n",
        "    total_words+=1\n",
        "opfile.close()\n",
        "print(\"{:.4f},{:.4f},{:.4f},{:.4f}\".format(100*top1/total_words,100*top5/total_words,100*top10/total_words,100*top50/total_words))\n"
      ],
      "execution_count": null,
      "outputs": []
    },
    {
      "cell_type": "code",
      "metadata": {
        "id": "S4IMU77o_6_c",
        "colab_type": "code",
        "colab": {}
      },
      "source": [
        "# correct spelling check\n",
        "\n",
        "opfile = open(\"./combined_data.tsv\",\"r\")\n",
        "total_words = 0\n",
        "top1 = 0\n",
        "top5 = 0\n",
        "top10 = 0\n",
        "top50 = 0\n",
        "for line in tqdm(opfile):\n",
        "    words = line.strip().split(\"\\t\")[:2]\n",
        "    _,correct  = words[0], words[1]\n",
        "    suggestions = corrector.suggest(correct)\n",
        "    top1 = top1+1 if correct in suggestions[:1] else top1\n",
        "    top5 = top5+1 if correct in suggestions[:5] else top5\n",
        "    top10 = top10+1 if correct in suggestions[:10] else top10\n",
        "    top50 = top50+1 if correct in suggestions[:50] else top50\n",
        "    total_words+=1\n",
        "opfile.close()\n",
        "print(\"{:.4f},{:.4f},{:.4f},{:.4f}\".format(100*top1/total_words,100*top5/total_words,100*top10/total_words,100*top50/total_words))\n"
      ],
      "execution_count": null,
      "outputs": []
    },
    {
      "cell_type": "markdown",
      "metadata": {
        "id": "u39Lze8_xzL1",
        "colab_type": "text"
      },
      "source": [
        "##### custom made homophones data only"
      ]
    },
    {
      "cell_type": "code",
      "metadata": {
        "id": "WpkxYKwtpL--",
        "colab_type": "code",
        "colab": {}
      },
      "source": [
        "# incorrect spellings check\n",
        "\n",
        "opfile = open(\"./homophones.tsv\",\"r\")\n",
        "total_words = 0\n",
        "top1 = 0\n",
        "top5 = 0\n",
        "top10 = 0\n",
        "top50 = 0\n",
        "for line in tqdm(opfile):\n",
        "    words = line.strip().split(\"\\t\")[:2]\n",
        "    incorrect,correct  = words[0], words[1]\n",
        "    suggestions = corrector.suggest(incorrect)\n",
        "    top1 = top1+1 if correct in suggestions[:1] else top1\n",
        "    top5 = top5+1 if correct in suggestions[:5] else top5\n",
        "    top10 = top10+1 if correct in suggestions[:10] else top10\n",
        "    top50 = top50+1 if correct in suggestions[:50] else top50\n",
        "    total_words+=1\n",
        "opfile.close()\n",
        "print(\"{:.4f},{:.4f},{:.4f},{:.4f}\".format(100*top1/total_words,100*top5/total_words,100*top10/total_words,100*top50/total_words))\n"
      ],
      "execution_count": null,
      "outputs": []
    },
    {
      "cell_type": "code",
      "metadata": {
        "id": "nLI7an2epL6h",
        "colab_type": "code",
        "colab": {}
      },
      "source": [
        "# correct spelling check\n",
        "\n",
        "opfile = open(\"./homophones.tsv\",\"r\")\n",
        "total_words = 0\n",
        "top1 = 0\n",
        "top5 = 0\n",
        "top10 = 0\n",
        "top50 = 0\n",
        "for line in tqdm(opfile):\n",
        "    words = line.strip().split(\"\\t\")[:2]\n",
        "    _,correct  = words[0], words[1]\n",
        "    suggestions = corrector.suggest(correct)\n",
        "    top1 = top1+1 if correct in suggestions[:1] else top1\n",
        "    top5 = top5+1 if correct in suggestions[:5] else top5\n",
        "    top10 = top10+1 if correct in suggestions[:10] else top10\n",
        "    top50 = top50+1 if correct in suggestions[:50] else top50\n",
        "    total_words+=1\n",
        "opfile.close()\n",
        "print(\"{:.4f},{:.4f},{:.4f},{:.4f}\".format(100*top1/total_words,100*top5/total_words,100*top10/total_words,100*top50/total_words))\n"
      ],
      "execution_count": null,
      "outputs": []
    },
    {
      "cell_type": "markdown",
      "metadata": {
        "id": "6nYWwv0_x5Pw",
        "colab_type": "text"
      },
      "source": [
        "##### aspell official page dataset"
      ]
    },
    {
      "cell_type": "code",
      "metadata": {
        "id": "7oFojZ5e-gtr",
        "colab_type": "code",
        "colab": {}
      },
      "source": [
        "# incorrect spellings check\n",
        "opfile = open(\"./aspell.tsv\",\"r\")\n",
        "total_words = 0\n",
        "top1 = 0\n",
        "top5 = 0\n",
        "top10 = 0\n",
        "top50 = 0\n",
        "for line in tqdm(opfile):\n",
        "    words = line.strip().split(\"\\t\")[:2]\n",
        "    incorrect,correct  = words[0], words[1]\n",
        "    suggestions = corrector.suggest(incorrect)\n",
        "    top1 = top1+1 if correct in suggestions[:1] else top1\n",
        "    top5 = top5+1 if correct in suggestions[:5] else top5\n",
        "    top10 = top10+1 if correct in suggestions[:10] else top10\n",
        "    top50 = top50+1 if correct in suggestions[:50] else top50\n",
        "    total_words+=1\n",
        "opfile.close()\n",
        "print(\"{:.4f},{:.4f},{:.4f},{:.4f}\".format(100*top1/total_words,100*top5/total_words,100*top10/total_words,100*top50/total_words))\n"
      ],
      "execution_count": null,
      "outputs": []
    },
    {
      "cell_type": "code",
      "metadata": {
        "id": "ZtXfMkfGpL3d",
        "colab_type": "code",
        "colab": {}
      },
      "source": [
        "# correct spelling check\n",
        "\n",
        "opfile = open(\"./aspell.tsv\",\"r\")\n",
        "total_words = 0\n",
        "top1 = 0\n",
        "top5 = 0\n",
        "top10 = 0\n",
        "top50 = 0\n",
        "for line in tqdm(opfile):\n",
        "    words = line.strip().split(\"\\t\")[:2]\n",
        "    _,correct  = words[0], words[1]\n",
        "    suggestions = corrector.suggest(correct)\n",
        "    top1 = top1+1 if correct in suggestions[:1] else top1\n",
        "    top5 = top5+1 if correct in suggestions[:5] else top5\n",
        "    top10 = top10+1 if correct in suggestions[:10] else top10\n",
        "    top50 = top50+1 if correct in suggestions[:50] else top50\n",
        "    total_words+=1\n",
        "opfile.close()\n",
        "print(\"{:.4f},{:.4f},{:.4f},{:.4f}\".format(100*top1/total_words,100*top5/total_words,100*top10/total_words,100*top50/total_words))\n"
      ],
      "execution_count": null,
      "outputs": []
    },
    {
      "cell_type": "code",
      "metadata": {
        "id": "VrBcL5RNSXbW",
        "colab_type": "code",
        "colab": {}
      },
      "source": [
        "# incorrect spellings check\n",
        "opfile = open(\"./batch0.tab\",\"r\")\n",
        "total_words = 0\n",
        "top1 = 0\n",
        "top5 = 0\n",
        "top10 = 0\n",
        "top50 = 0\n",
        "for line in tqdm(opfile):\n",
        "    words = line.strip().split(\"\\t\")[:2]\n",
        "    incorrect,correct  = words[0], words[1]\n",
        "    suggestions = corrector.suggest(incorrect)\n",
        "    top1 = top1+1 if correct in suggestions[:1] else top1\n",
        "    top5 = top5+1 if correct in suggestions[:5] else top5\n",
        "    top10 = top10+1 if correct in suggestions[:10] else top10\n",
        "    top50 = top50+1 if correct in suggestions[:50] else top50\n",
        "    total_words+=1\n",
        "opfile.close()\n",
        "print(\"{:.4f},{:.4f},{:.4f},{:.4f}\".format(100*top1/total_words,100*top5/total_words,100*top10/total_words,100*top50/total_words))\n"
      ],
      "execution_count": null,
      "outputs": []
    },
    {
      "cell_type": "code",
      "metadata": {
        "id": "-H7gsCVY6dmO",
        "colab_type": "code",
        "colab": {}
      },
      "source": [
        "# correct spelling check\n",
        "\n",
        "opfile = open(\"./batch0.tab\",\"r\")\n",
        "total_words = 0\n",
        "top1 = 0\n",
        "top5 = 0\n",
        "top10 = 0\n",
        "top50 = 0\n",
        "for line in tqdm(opfile):\n",
        "    words = line.strip().split(\"\\t\")[:2]\n",
        "    _,correct  = words[0], words[1]\n",
        "    suggestions = corrector.suggest(correct)\n",
        "    top1 = top1+1 if correct in suggestions[:1] else top1\n",
        "    top5 = top5+1 if correct in suggestions[:5] else top5\n",
        "    top10 = top10+1 if correct in suggestions[:10] else top10\n",
        "    top50 = top50+1 if correct in suggestions[:50] else top50\n",
        "    total_words+=1\n",
        "opfile.close()\n",
        "print(\"{:.4f},{:.4f},{:.4f},{:.4f}\".format(100*top1/total_words,100*top5/total_words,100*top10/total_words,100*top50/total_words))\n"
      ],
      "execution_count": null,
      "outputs": []
    },
    {
      "cell_type": "markdown",
      "metadata": {
        "id": "UtD2W5l3_TOa",
        "colab_type": "text"
      },
      "source": [
        "# in-context evaluation\n",
        "- Evaluation on documents ([list of incorr sentences],[list of correct sentences])\n",
        "- [x] Word by word evaluation and top-1 are only recorded for fast results"
      ]
    },
    {
      "cell_type": "code",
      "metadata": {
        "id": "zXoCUWi8_Sj_",
        "colab_type": "code",
        "colab": {}
      },
      "source": [
        "from tqdm import tqdm\n",
        "import aspell\n",
        "corrector = aspell.Speller()\n",
        "corrector.setConfigKey('sug-mode', \"normal\") #ultra, fast, normal, slow, or bad-spellers\n",
        "#for k,v in corrector.ConfigKeys().items(): print(k,v)"
      ],
      "execution_count": null,
      "outputs": []
    },
    {
      "cell_type": "code",
      "metadata": {
        "id": "tjTaT9NaP6MV",
        "colab_type": "code",
        "colab": {}
      },
      "source": [
        "corrector.getPersonalwordlist()"
      ],
      "execution_count": null,
      "outputs": []
    },
    {
      "cell_type": "code",
      "metadata": {
        "id": "LivXsJqEfPXJ",
        "colab_type": "code",
        "colab": {}
      },
      "source": [
        "from google.colab import drive\n",
        "drive.mount('/content/drive') # drive.mount(\"/content/drive\", force_remount=True)"
      ],
      "execution_count": null,
      "outputs": []
    },
    {
      "cell_type": "code",
      "metadata": {
        "id": "-b-jhuf3fXln",
        "colab_type": "code",
        "colab": {}
      },
      "source": [
        "%ls \"../../data/traintest\"\n",
        "BASE_PATH = \"../../data/traintest\""
      ],
      "execution_count": null,
      "outputs": []
    },
    {
      "cell_type": "code",
      "metadata": {
        "id": "V3Pu7ox5NDMd",
        "colab_type": "code",
        "colab": {}
      },
      "source": [
        "# CLEAN_FILE_PATH = \"./test.bea4k\"\n",
        "# CORRUPT_FILE_PATH = \"./test.bea4k.noise\"\n",
        "\n",
        "# CLEAN_FILE_PATH = \"./test.bea60k\"\n",
        "# CORRUPT_FILE_PATH = \"./test.bea60k.noise\"\n",
        "\n",
        "# CLEAN_FILE_PATH = \"./test.bea20k\"\n",
        "# CORRUPT_FILE_PATH = \"./test.bea20k.noise\"\n",
        "\n",
        "# CLEAN_FILE_PATH = \"./test.jfleg\"\n",
        "# CORRUPT_FILE_PATH = \"./test.jfleg.noise\"\n",
        "\n",
        "# CLEAN_FILE_PATH = \"./test.1blm\"\n",
        "# CORRUPT_FILE_PATH = \"./test.1blm.noise.prob\"\n",
        "\n",
        "# CLEAN_FILE_PATH = \"./test.1blm\"\n",
        "# CORRUPT_FILE_PATH = \"./test.1blm.noise.word\"\n",
        "\n",
        "# CLEAN_FILE_PATH = \"./test.1blm\"\n",
        "# CORRUPT_FILE_PATH = \"./test.1blm.noise.random\"\n",
        "\n",
        "CLEAN_FILE_PATH = \"./test.bea322\"\n",
        "CORRUPT_FILE_PATH = \"./test.bea322.noise\"\n",
        "\n",
        "# CLEAN_FILE_PATH = \"./test.bea4660\"\n",
        "# CORRUPT_FILE_PATH = \"./test.bea4660.noise\"\n",
        "\n",
        "import os\n",
        "CLEAN_FILE_PATH = os.path.join(BASE_PATH, CLEAN_FILE_PATH)\n",
        "print(CLEAN_FILE_PATH)\n",
        "CORRUPT_FILE_PATH = os.path.join(BASE_PATH, CORRUPT_FILE_PATH)\n",
        "print(CORRUPT_FILE_PATH)\n",
        "\n",
        "opfile = open(CLEAN_FILE_PATH,\"r\")\n",
        "clean_data = opfile.readlines()\n",
        "opfile.close()\n",
        "print(\"total lines in clean_data: {}\".format(len(clean_data)))\n",
        "print(\"total tokens in clean_data: {}\".format(sum([len(line.strip().split()) for line in clean_data])))\n",
        "\n",
        "opfile = open(CORRUPT_FILE_PATH,\"r\")\n",
        "corrupt_data = opfile.readlines()\n",
        "opfile.close()\n",
        "print(\"total lines in corrupt_data: {}\".format(len(corrupt_data)))\n",
        "print(\"total tokens in corrupt_data: {}\".format(sum([len(line.strip().split()) for line in corrupt_data])))"
      ],
      "execution_count": null,
      "outputs": []
    },
    {
      "cell_type": "code",
      "metadata": {
        "id": "a1Hvey5m_Se1",
        "colab_type": "code",
        "colab": {}
      },
      "source": [
        "from time import time\n",
        "st_time = time()\n",
        "corr2corr, corr2incorr, incorr2corr, incorr2incorr = 0, 0, 0, 0\n",
        "for clean_line,corrupt_line in tqdm(zip(clean_data,corrupt_data)):\n",
        "    for clean_token,corrupt_token in zip(clean_line.split(),corrupt_line.split()):\n",
        "        if clean_token==corrupt_token:\n",
        "            try:\n",
        "                if corrector.suggest(corrupt_token)[0]==clean_token: corr2corr+=1\n",
        "                else: corr2incorr+=1\n",
        "            except IndexError:\n",
        "                corr2incorr+=1\n",
        "        else:\n",
        "            try:\n",
        "                if corrector.suggest(corrupt_token)[0]==clean_token: incorr2corr+=1\n",
        "                else: incorr2incorr+=1\n",
        "            except IndexError:\n",
        "                incorr2incorr+=1\n",
        "ed_time = time()\n",
        "print(\"\")\n",
        "print(\"total token count: {}\".format(corr2corr+corr2incorr+incorr2corr+incorr2incorr))\n",
        "print(f\"corr2corr:{corr2corr}, corr2incorr:{corr2incorr}, incorr2corr:{incorr2corr}, incorr2incorr:{incorr2incorr}\")\n",
        "print(f\"accuracy is {(corr2corr+incorr2corr)/(corr2corr+corr2incorr+incorr2corr+incorr2incorr)}\")\n",
        "print(f\"word correction rate is {(incorr2corr)/(incorr2corr+incorr2incorr)}\")\n",
        "print(f\"time taken for inference: {ed_time-st_time} secs\")"
      ],
      "execution_count": null,
      "outputs": []
    },
    {
      "cell_type": "code",
      "metadata": {
        "id": "Y4bNPFFMWiJ4",
        "colab_type": "code",
        "colab": {}
      },
      "source": [
        ""
      ],
      "execution_count": null,
      "outputs": []
    },
    {
      "cell_type": "markdown",
      "metadata": {
        "id": "f5k15PzoVZeL",
        "colab_type": "text"
      },
      "source": [
        "# if using .py file"
      ]
    },
    {
      "cell_type": "code",
      "metadata": {
        "id": "E5w09HZZWVR7",
        "colab_type": "code",
        "colab": {}
      },
      "source": [
        "# upload evals.py file\n",
        "# upload model_aspell.py file"
      ],
      "execution_count": null,
      "outputs": []
    },
    {
      "cell_type": "code",
      "metadata": {
        "id": "6UGjni8TVdN1",
        "colab_type": "code",
        "colab": {}
      },
      "source": [
        "from google.colab import drive\n",
        "drive.mount('/content/drive')\n",
        "# drive.mount(\"/content/drive\", force_remount=True)"
      ],
      "execution_count": null,
      "outputs": []
    },
    {
      "cell_type": "code",
      "metadata": {
        "id": "O6VnEngfVi0Z",
        "colab_type": "code",
        "colab": {}
      },
      "source": [
        "!python model_aspell.py \"../../data/traintest/test.1blm\" \"../../data/traintest/test.1blm.noise.prob\""
      ],
      "execution_count": null,
      "outputs": []
    },
    {
      "cell_type": "code",
      "metadata": {
        "id": "6qQEKDbMWRCH",
        "colab_type": "code",
        "colab": {}
      },
      "source": [
        "!python model_aspell.py \"../../data/traintest/test.1blm\" \"../../data/traintest/test.1blm.noise.word\""
      ],
      "execution_count": null,
      "outputs": []
    },
    {
      "cell_type": "code",
      "metadata": {
        "id": "XpNJ5CB4i6VQ",
        "colab_type": "code",
        "colab": {}
      },
      "source": [
        ""
      ],
      "execution_count": null,
      "outputs": []
    },
    {
      "cell_type": "code",
      "metadata": {
        "id": "bJgp3JM9uion",
        "colab_type": "code",
        "colab": {}
      },
      "source": [
        "import string\n",
        "string.punctuation"
      ],
      "execution_count": null,
      "outputs": []
    },
    {
      "cell_type": "code",
      "metadata": {
        "id": "Uw_sMtF0u9W0",
        "colab_type": "code",
        "colab": {}
      },
      "source": [
        ""
      ],
      "execution_count": null,
      "outputs": []
    }
  ]
}