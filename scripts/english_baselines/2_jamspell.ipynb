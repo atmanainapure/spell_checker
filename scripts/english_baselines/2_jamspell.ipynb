{
  "nbformat": 4,
  "nbformat_minor": 0,
  "metadata": {
    "colab": {
      "name": "2-jamspell.ipynb",
      "provenance": [],
      "collapsed_sections": [
        "0BynQGGmUynd",
        "MoFMNwYAj6cP"
      ],
      "toc_visible": true
    },
    "kernelspec": {
      "name": "python3",
      "display_name": "Python 3"
    }
  },
  "cells": [
    {
      "cell_type": "markdown",
      "metadata": {
        "id": "QJ0bghnsYFRu",
        "colab_type": "text"
      },
      "source": [
        "# https://github.com/bakwc/JamSpell#download-models"
      ]
    },
    {
      "cell_type": "markdown",
      "metadata": {
        "id": "0BynQGGmUynd",
        "colab_type": "text"
      },
      "source": [
        "# setup"
      ]
    },
    {
      "cell_type": "code",
      "metadata": {
        "id": "2CIV2N1-LRZN",
        "colab_type": "code",
        "colab": {}
      },
      "source": [
        "!sudo apt-get install -y swig3.0"
      ],
      "execution_count": null,
      "outputs": []
    },
    {
      "cell_type": "code",
      "metadata": {
        "id": "9_EEcSQOkMAK",
        "colab_type": "code",
        "colab": {}
      },
      "source": [
        "!wget -P ./ https://github.com/bakwc/JamSpell-models/raw/master/en.tar.gz\n",
        "!tar xf ./en.tar.gz --directory ./"
      ],
      "execution_count": null,
      "outputs": []
    },
    {
      "cell_type": "markdown",
      "metadata": {
        "id": "AWenbeiZU3La",
        "colab_type": "text"
      },
      "source": [
        "# in-context evaluation"
      ]
    },
    {
      "cell_type": "code",
      "metadata": {
        "id": "978kJ52WkQPp",
        "colab_type": "code",
        "colab": {}
      },
      "source": [
        "!pip install jamspell"
      ],
      "execution_count": null,
      "outputs": []
    },
    {
      "cell_type": "code",
      "metadata": {
        "id": "2HOG4e-APLJI",
        "colab_type": "code",
        "colab": {}
      },
      "source": [
        "# restart env"
      ],
      "execution_count": null,
      "outputs": []
    },
    {
      "cell_type": "code",
      "metadata": {
        "id": "p__eoMbOkQVU",
        "colab_type": "code",
        "colab": {}
      },
      "source": [
        "import jamspell\n",
        "\n",
        "corrector = jamspell.TSpellCorrector()\n",
        "corrector.LoadLangModel('en.bin')\n",
        "\n",
        "print(corrector.FixFragment('I am the begt -es nfn spell cherken!'))\n",
        "print(corrector.FixFragment('Ice cream is a type of dasart'))\n",
        "print(corrector.FixFragment('Sahara dasart has a hot dry climate'))\n",
        "print(corrector.FixFragment('Who thaught you calculus?'))\n",
        "print(corrector.FixFragment('I never thaught he would betray me'))\n",
        "# u'I am the best spell checker!'\n",
        "\n",
        "# corrector.GetCandidates(['i', 'am', 'the', 'begt', 'spell', 'cherken'], 3)\n",
        "# # (u'best', u'beat', u'belt', u'bet', u'bent', ... )\n",
        "\n",
        "# corrector.GetCandidates(['i', 'am', 'the', 'begt', 'spell', 'cherken'], 5)\n",
        "# # (u'checker', u'chicken', u'checked', u'wherein', u'coherent', ...)"
      ],
      "execution_count": null,
      "outputs": []
    },
    {
      "cell_type": "code",
      "metadata": {
        "id": "U6bge-stUx2y",
        "colab_type": "code",
        "colab": {}
      },
      "source": [
        "from google.colab import drive\n",
        "drive.mount('/content/drive') # drive.mount(\"/content/drive\", force_remount=True)"
      ],
      "execution_count": null,
      "outputs": []
    },
    {
      "cell_type": "code",
      "metadata": {
        "id": "LuZ7lRLukQYb",
        "colab_type": "code",
        "colab": {}
      },
      "source": [
        "%ls \"../../data/traintest\"\n",
        "BASE_PATH = \"../../data/traintest\"\n",
        "\n",
        "# CLEAN_FILE_PATH = \"./test.bea4k\"\n",
        "# CORRUPT_FILE_PATH = \"./test.bea4k.noise\"\n",
        "\n",
        "# CLEAN_FILE_PATH = \"./test.bea60k\"\n",
        "# CORRUPT_FILE_PATH = \"./test.bea60k.noise\"\n",
        "\n",
        "# CLEAN_FILE_PATH = \"./test.bea20k\"\n",
        "# CORRUPT_FILE_PATH = \"./test.bea20k.noise\"\n",
        "\n",
        "# CLEAN_FILE_PATH = \"./test.jfleg\"\n",
        "# CORRUPT_FILE_PATH = \"./test.jfleg.noise\"\n",
        "\n",
        "# CLEAN_FILE_PATH = \"./test.1blm\"\n",
        "# CORRUPT_FILE_PATH = \"./test.1blm.noise.prob\"\n",
        "\n",
        "# CLEAN_FILE_PATH = \"./test.1blm\"\n",
        "# CORRUPT_FILE_PATH = \"./test.1blm.noise.word\"\n",
        "\n",
        "# CLEAN_FILE_PATH = \"./test.1blm\"\n",
        "# CORRUPT_FILE_PATH = \"./test.1blm.noise.random\"\n",
        "\n",
        "CLEAN_FILE_PATH = \"./test.bea322\"\n",
        "CORRUPT_FILE_PATH = \"./test.bea322.noise\"\n",
        "\n",
        "# CLEAN_FILE_PATH = \"./test.bea4660\"\n",
        "# CORRUPT_FILE_PATH = \"./test.bea4660.noise\"\n",
        "\n",
        "import os\n",
        "CLEAN_FILE_PATH = os.path.join(BASE_PATH, CLEAN_FILE_PATH)\n",
        "print(CLEAN_FILE_PATH)\n",
        "CORRUPT_FILE_PATH = os.path.join(BASE_PATH, CORRUPT_FILE_PATH)\n",
        "print(CORRUPT_FILE_PATH)\n",
        "\n",
        "opfile = open(CLEAN_FILE_PATH,\"r\")\n",
        "clean_data = opfile.readlines()\n",
        "opfile.close()\n",
        "print(\"total lines in clean_data: {}\".format(len(clean_data)))\n",
        "print(\"total tokens in clean_data: {}\".format(sum([len(line.strip().split()) for line in clean_data])))\n",
        "\n",
        "opfile = open(CORRUPT_FILE_PATH,\"r\")\n",
        "corrupt_data = opfile.readlines()\n",
        "opfile.close()\n",
        "print(\"total lines in corrupt_data: {}\".format(len(corrupt_data)))\n",
        "print(\"total tokens in corrupt_data: {}\".format(sum([len(line.strip().split()) for line in corrupt_data])))"
      ],
      "execution_count": null,
      "outputs": []
    },
    {
      "cell_type": "code",
      "metadata": {
        "id": "0swCb6nnkQTF",
        "colab_type": "code",
        "colab": {}
      },
      "source": [
        "from tqdm.notebook import tqdm\n",
        "\n",
        "from time import time\n",
        "st_time = time()\n",
        "corr2corr, corr2incorr, incorr2corr, incorr2incorr = 0, 0, 0, 0\n",
        "for clean_line,corrupt_line in tqdm(zip(clean_data,corrupt_data)):\n",
        "    prediction_line = corrector.FixFragment(corrupt_line)\n",
        "    for clean_token,corrupt_token,predict_token in zip(clean_line.split(),corrupt_line.split(),prediction_line.split()):\n",
        "        if clean_token==corrupt_token and predict_token==clean_token:\n",
        "            corr2corr += 1\n",
        "        elif clean_token==corrupt_token and predict_token!=clean_token:\n",
        "            corr2incorr+=1\n",
        "        elif clean_token!=corrupt_token and predict_token==clean_token:\n",
        "            incorr2corr+=1\n",
        "        elif clean_token!=corrupt_token and predict_token!=clean_token:\n",
        "            incorr2incorr+=1\n",
        "ed_time = time()\n",
        "print(\"\")\n",
        "print(\"total token count: {}\".format(corr2corr+corr2incorr+incorr2corr+incorr2incorr))\n",
        "print(f\"corr2corr:{corr2corr}, corr2incorr:{corr2incorr}, incorr2corr:{incorr2corr}, incorr2incorr:{incorr2incorr}\")\n",
        "print(f\"accuracy is {(corr2corr+incorr2corr)/(corr2corr+corr2incorr+incorr2corr+incorr2incorr)}\")\n",
        "print(f\"word correction rate is {(incorr2corr)/(incorr2corr+incorr2incorr)}\")\n",
        "print(f\"time taken for inference: {ed_time-st_time} secs\")"
      ],
      "execution_count": null,
      "outputs": []
    },
    {
      "cell_type": "code",
      "metadata": {
        "id": "pigR9oHcWIpj",
        "colab_type": "code",
        "colab": {}
      },
      "source": [
        "from tqdm.notebook import tqdm\n",
        "\n",
        "corr2corr, corr2incorr, incorr2corr, incorr2incorr = 0, 0, 0, 0\n",
        "for clean_line,corrupt_line in tqdm(zip(clean_data,corrupt_data)):\n",
        "    prediction_line = corrector.FixFragment(corrupt_line)\n",
        "    for clean_token,corrupt_token,predict_token in zip(clean_line.split(),corrupt_line.split(),prediction_line.split()):\n",
        "        if clean_token==corrupt_token and predict_token==clean_token:\n",
        "            corr2corr += 1\n",
        "        elif clean_token==corrupt_token and predict_token!=clean_token:\n",
        "            corr2incorr+=1\n",
        "        elif clean_token!=corrupt_token and predict_token==clean_token:\n",
        "            incorr2corr+=1\n",
        "        elif clean_token!=corrupt_token and predict_token!=clean_token:\n",
        "            incorr2incorr+=1\n",
        "print(\"\")\n",
        "print(\"total token count: {}\".format(corr2corr+corr2incorr+incorr2corr+incorr2incorr))\n",
        "print(f\"corr2corr:{corr2corr}, corr2incorr:{corr2incorr}, incorr2corr:{incorr2corr}, incorr2incorr:{incorr2incorr}\")\n",
        "print(f\"accuracy is {(corr2corr+incorr2corr)/(corr2corr+corr2incorr+incorr2corr+incorr2incorr)}\")\n",
        "print(f\"word correction rate is {(incorr2corr)/(incorr2corr+incorr2incorr)}\")"
      ],
      "execution_count": null,
      "outputs": []
    },
    {
      "cell_type": "markdown",
      "metadata": {
        "id": "MoFMNwYAj6cP",
        "colab_type": "text"
      },
      "source": [
        "# bin"
      ]
    },
    {
      "cell_type": "code",
      "metadata": {
        "id": "k84vRMmUUh3o",
        "colab_type": "code",
        "colab": {}
      },
      "source": [
        "!git clone https://github.com/bakwc/JamSpell.git\n",
        "%cd JamSpell\n",
        "!python setup.py install"
      ],
      "execution_count": null,
      "outputs": []
    },
    {
      "cell_type": "code",
      "metadata": {
        "id": "N9om4OVx_iUs",
        "colab_type": "code",
        "colab": {}
      },
      "source": [
        "# cd JamSpell\n",
        "# mkdir build\n",
        "# cd build\n",
        "# cmake ..\n",
        "# make"
      ],
      "execution_count": null,
      "outputs": []
    },
    {
      "cell_type": "code",
      "metadata": {
        "id": "7opFVS24HrZl",
        "colab_type": "code",
        "colab": {}
      },
      "source": [
        "!touch alphabet_file.txt\n",
        "\"\"\"alphabet_file.txt\n",
        "abcdefghijklmnopqrstuvwxyz\n",
        "\"\"\""
      ],
      "execution_count": null,
      "outputs": []
    },
    {
      "cell_type": "code",
      "metadata": {
        "id": "KowXt5yrH5AD",
        "colab_type": "code",
        "colab": {}
      },
      "source": [
        "!touch sample_test_data.txt\n",
        "\"\"\"sample_test_data.txt\n",
        "I have just recieved the letter , which lets me know that I have won the first prize .\n",
        "This is because I intend to take an examination in Septenber .\n",
        "And recently , I have been practicing tennis as a school activity .\n",
        "The reason I enjoyed it very much is that I could meet the vocalist during setting chairs just before they started practicing .\n",
        "Can you send me a letter back writing what happend to you recently ?\n",
        "Finally , what kind of wheather is waiting for us ?\n",
        "Surprisily , there were no discounds .\n",
        "\"\"\""
      ],
      "execution_count": null,
      "outputs": []
    },
    {
      "cell_type": "code",
      "metadata": {
        "id": "j8ze7UZSNZw3",
        "colab_type": "code",
        "colab": {}
      },
      "source": [
        "%cd JamSpell"
      ],
      "execution_count": null,
      "outputs": []
    },
    {
      "cell_type": "code",
      "metadata": {
        "id": "YhQ8-Bgn_iM7",
        "colab_type": "code",
        "colab": {}
      },
      "source": [
        "!python evaluate/evaluate.py -a alphabet_file.txt -jsp ../en.bin -mx 50000 sample_test_data.txt"
      ],
      "execution_count": null,
      "outputs": []
    },
    {
      "cell_type": "code",
      "metadata": {
        "id": "ZHaxLxCEIOwX",
        "colab_type": "code",
        "colab": {}
      },
      "source": [
        ""
      ],
      "execution_count": null,
      "outputs": []
    },
    {
      "cell_type": "code",
      "metadata": {
        "id": "udb_OTSql1g4",
        "colab_type": "code",
        "colab": {}
      },
      "source": [
        "from google.colab import drive\n",
        "drive.mount('/content/drive')"
      ],
      "execution_count": null,
      "outputs": []
    }
  ]
}